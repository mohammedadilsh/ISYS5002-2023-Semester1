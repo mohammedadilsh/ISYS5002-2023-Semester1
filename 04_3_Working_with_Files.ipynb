{
  "cells": [
    {
      "cell_type": "markdown",
      "metadata": {
        "id": "view-in-github",
        "colab_type": "text"
      },
      "source": [
        "<a href=\"https://colab.research.google.com/github/mohammedadilsh/ISYS5002-2023-Semester1/blob/main/04_3_Working_with_Files.ipynb\" target=\"_parent\"><img src=\"https://colab.research.google.com/assets/colab-badge.svg\" alt=\"Open In Colab\"/></a>"
      ]
    },
    {
      "cell_type": "markdown",
      "metadata": {
        "id": "b5IJBQVMWWWZ"
      },
      "source": [
        "# **File Input & Output**\n",
        "For program to retain data between the times it is run, you must save the data\n",
        "- Data is saved to a file, typically on computer disk\n",
        "- Saved data can be retrieved and used at a later time\n",
        "\n",
        "“***Writing data to***”: saving data on a file\n",
        "<br>***Output file***: a file that data is written to\n",
        "<br>*“**Reading data from**”*: process of retrieving data from a file\n",
        "<br>***Input file***: a file from which data is read\n",
        "\n",
        "Three steps when a program uses a file\n",
        "- Open the file\n",
        "- Process the file\n",
        "- Close the file\n",
        "\n",
        "**Types of files**\n",
        "<br>\n",
        "- A **text file** is a sequence of characters\n",
        "- A **binary file** (for images, videos and more) is a sequence of bytes\n",
        "- First character in a text file or byte in a binary file is located at position 0\n",
        "  - In a file of n characters or bytes, the highest position number is n – 1 (**end-of-file marker**)\n",
        "- For each file you **open**, Python creates a **file object** that you’ll use to interact with the file\n",
        "\n",
        "\n",
        "**Comma-separated values (CSV) file**\n",
        "- CSV files are the most common format used for importing and exporting data from spreadsheets and databases.\n",
        "- CSV files are text files that have delimiters. A delimiter is a character that separates data values.\n",
        "\n"
      ]
    },
    {
      "cell_type": "markdown",
      "metadata": {
        "id": "p9aQsBRQxt7k"
      },
      "source": [
        "# Text File"
      ]
    },
    {
      "cell_type": "markdown",
      "source": [
        "## File `open` Function\n",
        "\n",
        "`file_variable = open(filename, mode)`\n",
        "\n",
        "**Mode**: string specifying how the file will be opened\n",
        "\n",
        "Example: reading only ('r'), writing ('w'), and appending ('a')\n",
        "\n",
        "\n",
        "https://www.w3schools.com/python/python_file_handling.asp"
      ],
      "metadata": {
        "id": "MfuOy9XdK7yR"
      }
    },
    {
      "cell_type": "code",
      "execution_count": null,
      "metadata": {
        "id": "pIxETi9m8Ghq"
      },
      "outputs": [],
      "source": [
        "#open a file named customers.txt\n",
        "file = open(\"customer_account.txt\", 'w')"
      ]
    },
    {
      "cell_type": "markdown",
      "metadata": {
        "id": "lmYx04AD6YnM"
      },
      "source": [
        "### Writing & Reading with the `with` statement\n",
        "\n",
        "- Acquires a resource and assigns its corresponding object to a variable\n",
        "- Allows the application to use the resource via that variable\n",
        "- Calls the resource object’s close method to release the resource\n",
        "\n",
        "Advantage of using a `with` statement with a file open is that when the `with` statement code block ends, the file closes.\n",
        "\n",
        "At the end of the with statement’s suite, the `with` statement *implicitly* calls the file object’s `close` method to close the file\n",
        "\n",
        "**Records**\n",
        "* 100 Jones 24.98 \n",
        "* 200 Doe 345.67 \n",
        "* 300 Williams 0.00 \n",
        "* 400 Stone -42.16 \n",
        "* 500 Rich 224.62"
      ]
    },
    {
      "cell_type": "markdown",
      "metadata": {
        "id": "oO9aBCoBvb5x"
      },
      "source": [
        "### Writing Text File\n",
        "* The `with` statement open the file `customer_account.txt` in write mode using the `open()` function. \n",
        "* The mode `'w'` indicates that the file should be opened in write mode, which allows us to write to the file. \n",
        "* The `as account` part of the statement assigns the file object to the variable `account`"
      ]
    },
    {
      "cell_type": "code",
      "execution_count": null,
      "metadata": {
        "id": "mc2NDGan6pQi"
      },
      "outputs": [],
      "source": [
        "# write to file using 'with' statement\n",
        "\n",
        "# Open file for writing and write records\n",
        "with open(\"/content/customer_account.txt\", 'w')  as account:\n",
        "  account.write('100 Jones 24.98\\n')\n",
        "  account.write('200 Doe 345.67\\n')\n",
        "  account.write('300 Williams 0.00\\n')\n",
        "  account.write('400 Stone -42.16\\n')\n",
        "    "
      ]
    },
    {
      "cell_type": "markdown",
      "source": [
        "### Reading Text File\n",
        "\n",
        "This code opens a file named `customer_account.txt` in read mode and reads the first line of text from the file. It then assigns the line of text to a variable named `record` and prints the value of `record`."
      ],
      "metadata": {
        "id": "qVEQ7k4WLeJ5"
      }
    },
    {
      "cell_type": "code",
      "source": [
        "# Reading from file\n",
        "with open(\"/content/customer_account.txt\", 'r')  as accounts:\n",
        "    record = accounts.readline()\n",
        "    #record = accounts.read()\n",
        "\n",
        "    print(record)\n",
        "    print(type(record))"
      ],
      "metadata": {
        "id": "F0eJ9kqN2RFt",
        "colab": {
          "base_uri": "https://localhost:8080/"
        },
        "outputId": "b0092d9a-e8c5-4696-8b6a-19d7dc705d39"
      },
      "execution_count": null,
      "outputs": [
        {
          "output_type": "stream",
          "name": "stdout",
          "text": [
            "100 Jones 24.98\n",
            "\n",
            "<class 'str'>\n"
          ]
        }
      ]
    },
    {
      "cell_type": "markdown",
      "source": [
        "* The line `for record in accounts:` iterates over each line of the file, assigning each line to the variable `record`.\n",
        "* The line `account, name, balance = record.split()` splits each line of the file into three separate values, which are assigned to three variables named *account, name, and balance*, respectively.\n",
        "  * The `split()` method is called on each line of the file to break it up into its individual parts or fields. In this case, each line in the file has three values separated by spaces: an account number, a last name, and a balance.\n",
        "\n",
        "  * Calling `split()` on the line of text returns a list of strings, where each string corresponds to a field in the line. By unpacking the list of strings using tuple assignment, the values in the line are assigned to individual variables named *account, name, and balance*, respectively.\n",
        "\n",
        "  * Using the `split()` method and tuple assignment allows us to work with each value separately and perform any necessary operations or calculations on them. In this case, we are using them to format the data into a table."
      ],
      "metadata": {
        "id": "F0UVntJryjLW"
      }
    },
    {
      "cell_type": "code",
      "source": [
        "# Reading from file\n",
        "with open(\"/content/customer_account.txt\", 'r')  as accounts:\n",
        "    #record = account.read()\n",
        "    #print(record)\n",
        "    print(f'{\"Account\":10}{\"Name\":10}{\"Balance\":8}') \n",
        "    for record in accounts:\n",
        "      account, name, balance = record.split() \n",
        "      print(f'{account:10}{name:10}{balance:8}')\n",
        "\n",
        "    "
      ],
      "metadata": {
        "id": "FCiqOGDUu6-t",
        "colab": {
          "base_uri": "https://localhost:8080/"
        },
        "outputId": "9d31ad9d-2c68-4a73-ab29-8f39117281c7"
      },
      "execution_count": null,
      "outputs": [
        {
          "output_type": "stream",
          "name": "stdout",
          "text": [
            "Account   Name      Balance \n",
            "100       Jones     24.98   \n",
            "200       Doe       345.67  \n",
            "300       Williams  0.00    \n",
            "400       Stone     -42.16  \n"
          ]
        }
      ]
    },
    {
      "cell_type": "code",
      "source": [
        "help(record.split)"
      ],
      "metadata": {
        "id": "olqtXbsp-d7G",
        "colab": {
          "base_uri": "https://localhost:8080/"
        },
        "outputId": "82d1d986-43d4-4833-944d-0545d069ad34"
      },
      "execution_count": null,
      "outputs": [
        {
          "output_type": "stream",
          "name": "stdout",
          "text": [
            "Help on built-in function split:\n",
            "\n",
            "split(sep=None, maxsplit=-1) method of builtins.str instance\n",
            "    Return a list of the words in the string, using sep as the delimiter string.\n",
            "    \n",
            "    sep\n",
            "      The delimiter according which to split the string.\n",
            "      None (the default value) means split according to any whitespace,\n",
            "      and discard empty strings from the result.\n",
            "    maxsplit\n",
            "      Maximum number of splits to do.\n",
            "      -1 (the default value) means no limit.\n",
            "\n"
          ]
        }
      ]
    },
    {
      "cell_type": "markdown",
      "source": [
        "# CSV File"
      ],
      "metadata": {
        "id": "BieUazgSLMeI"
      }
    },
    {
      "cell_type": "markdown",
      "metadata": {
        "id": "KiOs3fgB9CD8"
      },
      "source": [
        "## Reading and Writing CSV file\n",
        "\n",
        "Text files work fine when we are referencing small amounts of information, but when we use larger amounts of data, adding structure helps in organizing and retrieving values. \n",
        "\n",
        "One common format found in business and social sciences alike (as well as any field concerned with data science) is the comma-separated values (CSV) format. \n",
        "\n",
        "**CSV files** are the most common format used for importing and exporting data from spreadsheets and databases. \n",
        "\n",
        "CSV files are text files that have delimiters.  A **delimiter** is a character that separates data values. \n",
        "\n",
        "You can explore CSV files in spreadsheet software (such as Microsoft Excel), which will remove delimiters (usually commas) and store data values in separate cells.\n",
        "\n",
        "\n",
        "One of the benefits of importing data files such as CSV files is the ability to read in a lot of data at once, parsing the data so your code can access individual values within the data. **By default, CSV files use commas (“,”) to separate data values**.\n",
        "\n"
      ]
    },
    {
      "cell_type": "markdown",
      "source": [
        "Imports the built-in **`csv` module** for working with CSV (Comma Separated Values) files, which are a common file format used for storing tabular data."
      ],
      "metadata": {
        "id": "W8IeHiwhoKPV"
      }
    },
    {
      "cell_type": "code",
      "source": [
        "#import csv module\n",
        "import csv"
      ],
      "metadata": {
        "id": "HzELdjjOlqYW"
      },
      "execution_count": null,
      "outputs": []
    },
    {
      "cell_type": "markdown",
      "source": [
        "In the following code we use Python's built-in `csv` module to write a single row of data to a CSV file named \"accounts.csv\". \n",
        "\n",
        "1. `with open(\"accounts.csv\", 'w') as accounts:` - This line opens the file \"accounts.csv\" in write mode `('w')` and creates a file object called `accounts`. The `with` statement ensures that the file is properly closed after the block of code inside it is executed. If the file already exists, it is overwritten.\n",
        "\n",
        "2. `writer = csv.writer(accounts)` - This line creates a CSV writer object called `writer`, which will be used to write data to the `accounts` file.\n",
        "\n",
        "  * In Python, the `csv.writer `class is a built-in class provided by the `csv` module that facilitates the writing of CSV (Comma Separated Values) files.\n",
        "\n",
        "  * In the code below, `csv.writer(accounts)` creates a csv.writer object named `writer`, which is used to write data to the `accounts.csv` file.\n",
        "\n",
        "  * The `csv.writer` object provides methods for writing rows of data to a CSV file. The `writerow() `method writes a single row of data to the CSV file. In this case, `writer.writerow([100, 'Jones', 24.98])` writes a row of three values (100, 'Jones', and 24.98) to the `accounts.csv` file.\n",
        "\n",
        "  * By using the `csv.writer `object to write data to the file, the data is automatically formatted with the appropriate delimiters (usually commas) and quotes, which makes it easier to read and import the data into other programs.\n",
        "\n",
        "3. `writer.writerow([100, 'Jones', 24.98])` - This line writes a single row to the CSV file. The values in the row are passed to the `writerow` method as a list of values. In this case, the row contains three values: the integer *100*, the string '*Jones*', and the float *24.98*. The values are written to the CSV file as comma-separated values on a single line."
      ],
      "metadata": {
        "id": "NHKvvXidoNAc"
      }
    },
    {
      "cell_type": "code",
      "execution_count": null,
      "metadata": {
        "id": "RLTFUeGPDrfG"
      },
      "outputs": [],
      "source": [
        "#Writing to a CSV file\n",
        "\n",
        "#open file and write records\n",
        "with open(\"accounts.csv\", 'w')  as accounts:\n",
        "  writer = csv.writer(accounts)\n",
        "  #writer.writerow(100, 'Jones', 24.98)\n",
        "  writer.writerow([100, 'Jones', 24.98])\n",
        "  writer.writerow([200, 'Doe', 345.67])\n",
        "  writer.writerow([300, 'Williams', 0.00])\n",
        "  writer.writerow([400, 'Stone', -42.16])\n",
        "  writer.writerow([500, 'Rich', 224.62])\n",
        "  \n"
      ]
    },
    {
      "cell_type": "markdown",
      "source": [
        "The following code is reading data from a CSV file named \"accounts.csv\" using the `csv` module in Python. The `with` statement ensures that the file is closed properly after it is used.\n",
        "\n",
        "The `csv.reader()` function is used to create a reader object to iterate over the lines in the CSV file. The `reader` object is then used in a `for` loop to iterate over each record in the file.\n",
        "\n",
        "\n",
        "\n",
        "* `reader` is a variable that refers to an instance of the `csv.reader` class, which is a built-in Python module for working with CSV files.\n",
        "\n",
        "* The `csv.reader` class is used to create a `reader` object that can be used to read data from a CSV file. The reader object is used in a `for` loop to iterate over each line (record) in the CSV file, and it provides a list of values for each line that can be accessed in the loop.\n",
        "\n",
        "* The `csv.reader` function takes a file object as input and returns a reader object. In the given code, the `accounts` file object is passed to the `csv.reader` function to create a `reader` object that can be used to read the data from the file.\n",
        "\n",
        "\n",
        "\n",
        "Inside the loop, each record is printed using the `print()` function. This will print each line in the file as a list of values, where each value corresponds to a column in the CSV file.\n",
        "\n",
        "Here is a step-by-step breakdown of the code:\n",
        "\n",
        "1. The `open()` function is used to open the file named \"accounts.csv\" in read mode. The file object is assigned to the variable `accounts`.\n",
        "2. The `csv.reader()` function is used to create a `reader` object from the accounts file object.\n",
        "3. A `for` loop is used to iterate over each record in the `reader` object.\n",
        "4. Inside the loop, each record is printed using the `print()` function.\n",
        "5. After the loop finishes, the `with` statement ensures that the `accounts` file object is closed properly."
      ],
      "metadata": {
        "id": "yPEB3cCLloWw"
      }
    },
    {
      "cell_type": "code",
      "execution_count": null,
      "metadata": {
        "id": "IFTbzVzFeYz_",
        "colab": {
          "base_uri": "https://localhost:8080/"
        },
        "outputId": "198f100e-3f08-4b71-d8b7-c8a060e5ad42"
      },
      "outputs": [
        {
          "output_type": "stream",
          "name": "stdout",
          "text": [
            "['100', 'Jones', '24.98']\n",
            "['200', 'Doe', '345.67']\n",
            "['300', 'Williams', '0.0']\n",
            "['400', 'Stone', '-42.16']\n",
            "['500', 'Rich', '224.62']\n"
          ]
        }
      ],
      "source": [
        "#reading from CSV file\n",
        "#The csv module’s reader function returns an object that reads CSV-format data from the specified file object\n",
        "\n",
        "#open file and read records\n",
        "with open(\"accounts.csv\", 'r')  as accounts:\n",
        "  reader = csv.reader(accounts)\n",
        "  for record in reader:\n",
        "    print(record)   \n"
      ]
    },
    {
      "cell_type": "code",
      "source": [
        "with open(\"accounts.csv\", 'r')  as accounts:\n",
        "  reader = csv.reader(accounts)\n",
        "  # printing the header information\n",
        "  print(f'{\"Account ID\":12} {\"Name\":10} {\"Balance\":10}')\n",
        "  \n",
        "  for record in reader:\n",
        "    #print(record)\n",
        "     accid, name, balance = record\n",
        "     print(f\"{accid:12} {name:10} {balance:10}\")"
      ],
      "metadata": {
        "colab": {
          "base_uri": "https://localhost:8080/"
        },
        "id": "hH2W75a4BsE5",
        "outputId": "61060a82-52d3-450e-e172-c859de78c09f"
      },
      "execution_count": null,
      "outputs": [
        {
          "output_type": "stream",
          "name": "stdout",
          "text": [
            "Account ID   Name       Balance   \n",
            "100          Jones      24.98     \n",
            "200          Doe        345.67    \n",
            "300          Williams   0.0       \n",
            "400          Stone      -42.16    \n",
            "500          Rich       224.62    \n"
          ]
        }
      ]
    }
  ],
  "metadata": {
    "colab": {
      "provenance": [],
      "include_colab_link": true
    },
    "kernelspec": {
      "display_name": "Python 3",
      "name": "python3"
    },
    "language_info": {
      "name": "python"
    }
  },
  "nbformat": 4,
  "nbformat_minor": 0
}